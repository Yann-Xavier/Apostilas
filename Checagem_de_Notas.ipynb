{
  "nbformat": 4,
  "nbformat_minor": 0,
  "metadata": {
    "colab": {
      "provenance": [],
      "authorship_tag": "ABX9TyOokz9mjCO0xffCxCddZSR/",
      "include_colab_link": true
    },
    "kernelspec": {
      "name": "python3",
      "display_name": "Python 3"
    },
    "language_info": {
      "name": "python"
    }
  },
  "cells": [
    {
      "cell_type": "markdown",
      "metadata": {
        "id": "view-in-github",
        "colab_type": "text"
      },
      "source": [
        "<a href=\"https://colab.research.google.com/github/Yann-Xavier/Apostilas/blob/main/Checagem_de_Notas.ipynb\" target=\"_parent\"><img src=\"https://colab.research.google.com/assets/colab-badge.svg\" alt=\"Open In Colab\"/></a>"
      ]
    },
    {
      "cell_type": "code",
      "execution_count": 4,
      "metadata": {
        "colab": {
          "base_uri": "https://localhost:8080/"
        },
        "id": "mprthjNNe9z0",
        "outputId": "4befc87f-513b-4ab2-b83d-79ff85b02e3a"
      },
      "outputs": [
        {
          "output_type": "stream",
          "name": "stdout",
          "text": [
            "Bem-vindo ao programa de verificação de nota!\n",
            "Digite uma nota entre zero e dez: 12\n",
            "Erro: A nota deve estar entre zero e dez.\n",
            "Digite uma nota entre zero e dez: 0\n",
            "A nota digitada foi: 0.0\n"
          ]
        }
      ],
      "source": [
        "def obter_nota():\n",
        "    while True:\n",
        "        try:\n",
        "            nota = float(input(\"Digite uma nota entre zero e dez: \"))\n",
        "            if 0 <= nota <= 10:\n",
        "                return nota\n",
        "            else:\n",
        "                print(\"Erro: A nota deve estar entre zero e dez.\")\n",
        "        except ValueError:\n",
        "            print(\"Erro: Por favor, insira um valor numérico para a nota.\")\n",
        "\n",
        "def main():\n",
        "    print(\"Bem-vindo ao programa de verificação de nota!\")\n",
        "\n",
        "    nota = obter_nota()\n",
        "    print(f\"A nota digitada foi: {nota}\")\n",
        "\n",
        "if __name__ == \"__main__\":\n",
        "    main()\n"
      ]
    }
  ]
}